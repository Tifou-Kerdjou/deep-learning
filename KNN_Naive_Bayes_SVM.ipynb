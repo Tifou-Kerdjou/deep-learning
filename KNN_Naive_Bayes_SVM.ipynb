{
  "nbformat": 4,
  "nbformat_minor": 0,
  "metadata": {
    "colab": {
      "name": "KNN_Naive_Bayes_SVM.ipynb",
      "provenance": [],
      "authorship_tag": "ABX9TyOKRXv42YSVKqCaZ8RqVody",
      "include_colab_link": true
    },
    "kernelspec": {
      "name": "python3",
      "display_name": "Python 3"
    },
    "language_info": {
      "name": "python"
    }
  },
  "cells": [
    {
      "cell_type": "markdown",
      "metadata": {
        "id": "view-in-github",
        "colab_type": "text"
      },
      "source": [
        "<a href=\"https://colab.research.google.com/github/Tifou-Kerdjou/deep-learning/blob/main/KNN_Naive_Bayes_SVM.ipynb\" target=\"_parent\"><img src=\"https://colab.research.google.com/assets/colab-badge.svg\" alt=\"Open In Colab\"/></a>"
      ]
    },
    {
      "cell_type": "code",
      "metadata": {
        "id": "zXnHsmeMZ7Ca"
      },
      "source": [
        "import pandas as pd\n",
        "import numpy as np\n",
        "from sklearn.datasets import load_iris\n",
        "from sklearn.model_selection import train_test_split\n",
        "from sklearn.metrics import accuracy_score , confusion_matrix , f1_score, recall_score\n",
        "from scipy.spatial import distance\n",
        "from collections import Counter\n",
        "from sklearn.neighbors import KNeighborsClassifier\n",
        "from scipy.stats import mode\n",
        "from sklearn.naive_bayes import GaussianNB\n",
        "from sklearn.svm import SVC as svm"
      ],
      "execution_count": null,
      "outputs": []
    },
    {
      "cell_type": "markdown",
      "source": [
        "# KNN"
      ],
      "metadata": {
        "id": "aS2yCrnIhCxA"
      }
    },
    {
      "cell_type": "code",
      "metadata": {
        "id": "E7qToUk-Z_ka"
      },
      "source": [
        "X, Y = load_iris(return_X_y=True)\n",
        "\n",
        "x_train,x_test, y_train, y_test = train_test_split(X, Y, test_size = .3, shuffle=True)\n",
        "\n",
        "\n",
        "def eucledian(p1,p2):\n",
        "    dist = np.sqrt(np.sum((p1-p2)**2))\n",
        "    return dist\n",
        "class KNN():\n",
        "    def fit( X_train, Y_train):\n",
        "        X_train = X_train\n",
        "        Y_train = Y_train\n",
        "    #Euclidean Distance\n",
        "\n",
        "    \n",
        "    #Function to calculate KNN\n",
        "    def predict(x_input,y , k):\n",
        "        op_labels = []\n",
        "        \n",
        "        #Loop through the Datapoints to be classified\n",
        "        for item in x_input: \n",
        "            \n",
        "            #Array to store distances\n",
        "            point_dist = []\n",
        "            \n",
        "            #Loop through each training Data\n",
        "            for j in range(len(x_train)): \n",
        "                distances = eucledian(np.array(x_train[j,:]) , item) \n",
        "                #Calculating the distance\n",
        "                point_dist.append(distances) \n",
        "            point_dist = np.array(point_dist) \n",
        "            \n",
        "            #Sorting the array while preserving the index\n",
        "            #Keeping the first K datapoints\n",
        "            dist = np.argsort(point_dist)[:k]\n",
        "            \n",
        "            #Labels of the K datapoints from above\n",
        "            labels = y[dist]\n",
        "            \n",
        "            #Majority voting\n",
        "            lab = mode(labels) \n",
        "            lab = lab.mode[0]\n",
        "            op_labels.append(lab)\n",
        "    \n",
        "        return op_labels"
      ],
      "execution_count": null,
      "outputs": []
    },
    {
      "cell_type": "code",
      "source": [
        "k = int(input(\"Enter k: \"))\n",
        "KNN.fit(x_train,y_train)\n",
        "predictions= KNN.predict(x_test,y_train,k)\n",
        "\n",
        "\n",
        "print(\"Fitting classifier...\")\n",
        "#classifier.fit(x_train, y_train)\n",
        "print(\"Successfully fitted classifier\")\n",
        "print(\"Making predictions\")\n",
        "#predictions = classifier.predict(x_test)\n",
        "print(\"Completed making predictions\")\n",
        "from sklearn.metrics import accuracy_score\n",
        "print (\"Accuracy:\", accuracy_score(y_test, predictions)*100, \"%\")"
      ],
      "metadata": {
        "colab": {
          "base_uri": "https://localhost:8080/"
        },
        "id": "Eb-_XNgye0Cx",
        "outputId": "e6c08c9d-0064-4873-bc74-e4865c9767a9"
      },
      "execution_count": null,
      "outputs": [
        {
          "output_type": "stream",
          "name": "stdout",
          "text": [
            "Enter k: 3\n",
            "Fitting classifier...\n",
            "Successfully fitted classifier\n",
            "Making predictions\n",
            "Completed making predictions\n",
            "Accuracy: 97.77777777777777 %\n"
          ]
        }
      ]
    },
    {
      "cell_type": "markdown",
      "source": [
        "prédéfini"
      ],
      "metadata": {
        "id": "X2MECztGhL-n"
      }
    },
    {
      "cell_type": "code",
      "source": [
        "k = int(input(\"Enter k: \"))\n",
        "KNNp=KNeighborsClassifier(k)\n",
        "KNNp.fit(x_train,y_train)\n",
        "predictions= KNNp.predict(x_test)\n",
        "\n",
        "\n",
        "print(\"Fitting classifier...\")\n",
        "#classifier.fit(x_train, y_train)\n",
        "print(\"Successfully fitted classifier\")\n",
        "print(\"Making predictions\")\n",
        "#predictions = classifier.predict(x_test)\n",
        "print(\"Completed making predictions\")\n",
        "from sklearn.metrics import accuracy_score\n",
        "print (\"Accuracy:\", accuracy_score(y_test, predictions)*100, \"%\")"
      ],
      "metadata": {
        "colab": {
          "base_uri": "https://localhost:8080/"
        },
        "id": "V8GJpCCme5Hv",
        "outputId": "4b4803ce-aae6-476e-f6ca-6d86cb3b6888"
      },
      "execution_count": null,
      "outputs": [
        {
          "output_type": "stream",
          "name": "stdout",
          "text": [
            "Enter k: 3\n",
            "Fitting classifier...\n",
            "Successfully fitted classifier\n",
            "Making predictions\n",
            "Completed making predictions\n",
            "Accuracy: 97.77777777777777 %\n"
          ]
        }
      ]
    },
    {
      "cell_type": "markdown",
      "source": [
        "### 10 cross validation"
      ],
      "metadata": {
        "id": "FhZgzcqRhUCe"
      }
    },
    {
      "cell_type": "code",
      "source": [
        "from sklearn.model_selection import KFold\n",
        "from sklearn.model_selection import cross_val_score\n",
        "cv = KFold(n_splits=10, random_state=1, shuffle=True)\n",
        "model = KNeighborsClassifier(3)\n",
        "scores = cross_val_score(model, X, Y, scoring='accuracy', cv=cv, n_jobs=-1)\n",
        "print('Accuracy: %.3f (%.3f)' % (np.mean(scores)*100, np.std(scores)))"
      ],
      "metadata": {
        "colab": {
          "base_uri": "https://localhost:8080/"
        },
        "id": "EwCg5UFEe89_",
        "outputId": "3cf710fa-c91f-47fb-da2f-be57724b2bb2"
      },
      "execution_count": null,
      "outputs": [
        {
          "output_type": "stream",
          "name": "stdout",
          "text": [
            "Accuracy: 96.667 (0.045)\n"
          ]
        }
      ]
    },
    {
      "cell_type": "code",
      "source": [
        "confusion_matrix(y_test,predictions)\n",
        "\n"
      ],
      "metadata": {
        "colab": {
          "base_uri": "https://localhost:8080/"
        },
        "id": "_pV2L6rffeBH",
        "outputId": "735a528e-3118-45b0-c580-a79f2a3a8af9"
      },
      "execution_count": null,
      "outputs": [
        {
          "output_type": "execute_result",
          "data": {
            "text/plain": [
              "array([[11,  0,  0],\n",
              "       [ 0, 18,  0],\n",
              "       [ 0,  1, 15]])"
            ]
          },
          "metadata": {},
          "execution_count": 95
        }
      ]
    },
    {
      "cell_type": "code",
      "source": [
        "f1_score(y_test,predictions,average='weighted')"
      ],
      "metadata": {
        "colab": {
          "base_uri": "https://localhost:8080/"
        },
        "id": "Levv5-wxGd_h",
        "outputId": "3e54af22-bff2-4fab-f45f-a4dfcc8e0122"
      },
      "execution_count": null,
      "outputs": [
        {
          "output_type": "execute_result",
          "data": {
            "text/plain": [
              "0.97771965513901"
            ]
          },
          "metadata": {},
          "execution_count": 96
        }
      ]
    },
    {
      "cell_type": "code",
      "source": [
        "recall_score(y_test,predictions,average='weighted')"
      ],
      "metadata": {
        "colab": {
          "base_uri": "https://localhost:8080/"
        },
        "id": "ve75vF_IGgl5",
        "outputId": "c6529f2b-28e1-4bb3-ac26-af1fc6c89161"
      },
      "execution_count": null,
      "outputs": [
        {
          "output_type": "execute_result",
          "data": {
            "text/plain": [
              "0.9777777777777777"
            ]
          },
          "metadata": {},
          "execution_count": 97
        }
      ]
    },
    {
      "cell_type": "markdown",
      "source": [
        "# Naive Bayes"
      ],
      "metadata": {
        "id": "rL3vSDqWocSY"
      }
    },
    {
      "cell_type": "code",
      "source": [
        "class NaiveBayesClassifier():\n",
        "    '''\n",
        "    Bayes Theorem form\n",
        "    P(y|X) = P(X|y) * P(y) / P(X)\n",
        "    '''\n",
        "    def calc_prior(self, features, target):\n",
        "        '''\n",
        "        prior probability P(y)\n",
        "        calculate prior probabilities\n",
        "        '''\n",
        "        self.prior = (features.groupby(target).apply(lambda x: len(x)) / self.rows).to_numpy()\n",
        "\n",
        "        return self.prior\n",
        "    \n",
        "    def calc_statistics(self, features, target):\n",
        "        '''\n",
        "        calculate mean, variance for each column and convert to numpy array\n",
        "        ''' \n",
        "        self.mean = features.groupby(target).apply(np.mean).to_numpy()\n",
        "        self.var = features.groupby(target).apply(np.var).to_numpy()\n",
        "              \n",
        "        return self.mean, self.var\n",
        "    \n",
        "    def gaussian_density(self, class_idx, x):     \n",
        "        '''\n",
        "        calculate probability from gaussian density function (normally distributed)\n",
        "        we will assume that probability of specific target value given specific class is normally distributed \n",
        "        \n",
        "        probability density function derived from wikipedia:\n",
        "        (1/√2pi*σ) * exp((-1/2)*((x-μ)^2)/(2*σ²)), where μ is mean, σ² is variance, σ is quare root of variance (standard deviation)\n",
        "        '''\n",
        "        mean = self.mean[class_idx]\n",
        "        var = self.var[class_idx]\n",
        "        numerator = np.exp((-1/2)*((x-mean)**2) / (2 * var))\n",
        "#         numerator = np.exp(-((x-mean)**2 / (2 * var)))\n",
        "        denominator = np.sqrt(2 * np.pi * var)\n",
        "        prob = numerator / denominator\n",
        "        return prob\n",
        "    def calc_posterior(self, x):\n",
        "        posteriors = []\n",
        "\n",
        "        # calculate posterior probability for each class\n",
        "        for i in range(self.count):\n",
        "            prior = np.log(self.prior[i]) ## use the log to make it more numerically stable\n",
        "            conditional = np.sum(np.log(self.gaussian_density(i, x))) # use the log to make it more numerically stable\n",
        "            posterior = prior + conditional\n",
        "            posteriors.append(posterior)\n",
        "        # return class with highest posterior probability\n",
        "        return self.classes[np.argmax(posteriors)]\n",
        "     \n",
        "\n",
        "    def fit(self, features, target):\n",
        "        self.classes = np.unique(target)\n",
        "        self.count = len(self.classes)\n",
        "        self.feature_nums = features.shape[1]\n",
        "        self.rows = features.shape[0]\n",
        "        \n",
        "        self.calc_statistics(features, target)\n",
        "        self.calc_prior(features, target)\n",
        "        \n",
        "    def predict(self, features):\n",
        "        preds = [self.calc_posterior(f) for f in features.to_numpy()]\n",
        "        return preds\n",
        "\n",
        "    def accuracy(self, y_test, y_pred):\n",
        "        accuracy = np.sum(y_test == y_pred) / len(y_test)\n",
        "        return accuracy"
      ],
      "metadata": {
        "id": "_DzwTAAEhcNH"
      },
      "execution_count": null,
      "outputs": []
    },
    {
      "cell_type": "code",
      "source": [
        "# upload Iris dataset -  shape is (150, 5)\n",
        "df = pd.read_csv(\"iris.data\" ,  sep=\",\")\n",
        "# shuffle dataset with sample\n",
        "df = df.sample(frac=1, random_state=1).reset_index(drop=True)\n",
        "# df shape\n",
        "print(df.shape)\n",
        "# set features and target\n",
        "X, y = df.iloc[:, :-1], df.iloc[:, -1]\n",
        "\n",
        "\n",
        "# # split on train and test 0.7/0.3\n",
        "X_train, X_test, y_train, y_test = X[:100], X[100:], y[:100], y[100:]\n",
        "\n",
        "print(X_train.shape, y_train.shape)\n",
        "print(X_test.shape, y_test.shape)"
      ],
      "metadata": {
        "colab": {
          "base_uri": "https://localhost:8080/"
        },
        "id": "PBDGIAaDojn_",
        "outputId": "531c784b-7218-4571-c69e-248e9fb9a823"
      },
      "execution_count": null,
      "outputs": [
        {
          "output_type": "stream",
          "name": "stdout",
          "text": [
            "(149, 5)\n",
            "(100, 4) (100,)\n",
            "(49, 4) (49,)\n"
          ]
        }
      ]
    },
    {
      "cell_type": "code",
      "source": [
        "x = NaiveBayesClassifier()\n",
        "\n",
        "x.fit(X_train, y_train)\n",
        "predictions = x.predict(X_test)\n",
        "x.accuracy(y_test, predictions)\n",
        "confusion_matrix(y_test, predictions)\n",
        "\n"
      ],
      "metadata": {
        "colab": {
          "base_uri": "https://localhost:8080/"
        },
        "id": "Ed9CWmpmpMuP",
        "outputId": "2ef81545-1ea1-4e9a-ee4a-1c1bf8347da8"
      },
      "execution_count": null,
      "outputs": [
        {
          "output_type": "execute_result",
          "data": {
            "text/plain": [
              "array([[17,  0,  0],\n",
              "       [ 0, 18,  1],\n",
              "       [ 0,  1, 12]])"
            ]
          },
          "metadata": {},
          "execution_count": 100
        }
      ]
    },
    {
      "cell_type": "code",
      "source": [
        "f1_score(y_test,predictions,average='weighted')"
      ],
      "metadata": {
        "colab": {
          "base_uri": "https://localhost:8080/"
        },
        "id": "G8_vhbDuGvhB",
        "outputId": "36dd2b20-ee39-46de-b32c-5543c3de8276"
      },
      "execution_count": null,
      "outputs": [
        {
          "output_type": "execute_result",
          "data": {
            "text/plain": [
              "0.9591836734693877"
            ]
          },
          "metadata": {},
          "execution_count": 101
        }
      ]
    },
    {
      "cell_type": "code",
      "source": [
        "recall_score(y_test,predictions,average='weighted')"
      ],
      "metadata": {
        "colab": {
          "base_uri": "https://localhost:8080/"
        },
        "id": "KcXVR7nAGwxB",
        "outputId": "911b8f21-fcbf-47e7-cbaf-0ecad6e8418c"
      },
      "execution_count": null,
      "outputs": [
        {
          "output_type": "execute_result",
          "data": {
            "text/plain": [
              "0.9591836734693877"
            ]
          },
          "metadata": {},
          "execution_count": 102
        }
      ]
    },
    {
      "cell_type": "markdown",
      "source": [
        "## prédéfini"
      ],
      "metadata": {
        "id": "ztU9QrEUqCe4"
      }
    },
    {
      "cell_type": "code",
      "source": [
        "clf = GaussianNB()\n",
        "clf.fit(X_train, y_train)\n",
        "predictionsPré = clf.predict(X_test)\n",
        "confusion_matrix(y_test, predictionsPré)\n",
        "\n"
      ],
      "metadata": {
        "colab": {
          "base_uri": "https://localhost:8080/"
        },
        "id": "BReJ4q6spaSQ",
        "outputId": "789fd531-95cd-443e-8fcc-95a3da3e2eae"
      },
      "execution_count": null,
      "outputs": [
        {
          "output_type": "execute_result",
          "data": {
            "text/plain": [
              "array([[17,  0,  0],\n",
              "       [ 0, 18,  1],\n",
              "       [ 0,  1, 12]])"
            ]
          },
          "metadata": {},
          "execution_count": 103
        }
      ]
    },
    {
      "cell_type": "code",
      "source": [
        "f1_score(y_test,predictionsPré,average='weighted')"
      ],
      "metadata": {
        "colab": {
          "base_uri": "https://localhost:8080/"
        },
        "id": "vPcjfp-hGyJg",
        "outputId": "7b45ad49-3a16-40f9-cdc7-ac2267c13e07"
      },
      "execution_count": null,
      "outputs": [
        {
          "output_type": "execute_result",
          "data": {
            "text/plain": [
              "0.9591836734693877"
            ]
          },
          "metadata": {},
          "execution_count": 104
        }
      ]
    },
    {
      "cell_type": "code",
      "source": [
        "recall_score(y_test,predictionsPré,average='weighted')"
      ],
      "metadata": {
        "colab": {
          "base_uri": "https://localhost:8080/"
        },
        "id": "x52qzK3rGzMh",
        "outputId": "1e64441d-c54c-4a58-c7c1-6cfc9e453cbb"
      },
      "execution_count": null,
      "outputs": [
        {
          "output_type": "execute_result",
          "data": {
            "text/plain": [
              "0.9591836734693877"
            ]
          },
          "metadata": {},
          "execution_count": 105
        }
      ]
    },
    {
      "cell_type": "markdown",
      "source": [
        "### 10 cross validation"
      ],
      "metadata": {
        "id": "adrEtZNsru6I"
      }
    },
    {
      "cell_type": "code",
      "source": [
        "cv = KFold(n_splits=10, random_state=1, shuffle=True)\n",
        "model = GaussianNB()\n",
        "scores = cross_val_score(model, X, y, scoring='accuracy', cv=cv, n_jobs=-1)\n",
        "print('Accuracy: %.3f (%.3f)' % (np.mean(scores)*100, np.std(scores)))"
      ],
      "metadata": {
        "colab": {
          "base_uri": "https://localhost:8080/"
        },
        "id": "gTyYFrpUrj6A",
        "outputId": "b25136f3-b92a-4947-e5a9-a9d998dea5ad"
      },
      "execution_count": null,
      "outputs": [
        {
          "output_type": "stream",
          "name": "stdout",
          "text": [
            "Accuracy: 94.667 (0.058)\n"
          ]
        }
      ]
    },
    {
      "cell_type": "markdown",
      "source": [
        "# SVM"
      ],
      "metadata": {
        "id": "j1VSnM_XC58Q"
      }
    },
    {
      "cell_type": "code",
      "source": [
        "cv = KFold(n_splits=10, random_state=1, shuffle=True)\n",
        "model=svm(gamma='auto')\n",
        "X, Y = load_iris(return_X_y=True)\n",
        "x_train,x_test, y_train, y_test = train_test_split(X, Y, test_size = .3, shuffle=True)\n",
        "scores = cross_val_score(model, X, Y, scoring='accuracy', cv=cv, n_jobs=-1)\n",
        "print('Accuracy: %.3f (%.3f)' % (np.mean(scores)*100, np.std(scores)))\n",
        "\n",
        "\n",
        "\n",
        "model.fit(x_train,y_train,None)\n",
        "y_pre=model.predict(x_test)\n",
        "confusion_matrix(y_test,y_pre)\n"
      ],
      "metadata": {
        "colab": {
          "base_uri": "https://localhost:8080/"
        },
        "id": "4z1VAfrQC9iY",
        "outputId": "77768d9f-4111-4283-e8a6-06f696cf3edb"
      },
      "execution_count": null,
      "outputs": [
        {
          "output_type": "stream",
          "name": "stdout",
          "text": [
            "Accuracy: 97.333 (0.033)\n"
          ]
        },
        {
          "output_type": "execute_result",
          "data": {
            "text/plain": [
              "array([[14,  0,  0],\n",
              "       [ 0, 16,  0],\n",
              "       [ 0,  0, 15]])"
            ]
          },
          "metadata": {},
          "execution_count": 107
        }
      ]
    },
    {
      "cell_type": "code",
      "source": [
        "f1_score(y_test,y_pre,average='weighted')"
      ],
      "metadata": {
        "colab": {
          "base_uri": "https://localhost:8080/"
        },
        "id": "A8RTLlsbG10g",
        "outputId": "59ddf29a-777c-433b-e5ca-abfbe0e07e31"
      },
      "execution_count": null,
      "outputs": [
        {
          "output_type": "execute_result",
          "data": {
            "text/plain": [
              "1.0"
            ]
          },
          "metadata": {},
          "execution_count": 108
        }
      ]
    },
    {
      "cell_type": "code",
      "source": [
        "\n",
        "recall_score(y_test,y_pre,average='weighted')"
      ],
      "metadata": {
        "colab": {
          "base_uri": "https://localhost:8080/"
        },
        "id": "t3_fUEwYG2sA",
        "outputId": "f5dd3df8-ec5f-4cb4-9d5a-1c6ba518e797"
      },
      "execution_count": null,
      "outputs": [
        {
          "output_type": "execute_result",
          "data": {
            "text/plain": [
              "1.0"
            ]
          },
          "metadata": {},
          "execution_count": 109
        }
      ]
    }
  ]
}